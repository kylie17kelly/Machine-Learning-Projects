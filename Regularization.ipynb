{
  "nbformat": 4,
  "nbformat_minor": 0,
  "metadata": {
    "colab": {
      "provenance": [],
      "include_colab_link": true
    },
    "kernelspec": {
      "name": "python3",
      "display_name": "Python 3"
    },
    "language_info": {
      "name": "python"
    }
  },
  "cells": [
    {
      "cell_type": "markdown",
      "metadata": {
        "id": "view-in-github",
        "colab_type": "text"
      },
      "source": [
        "<a href=\"https://colab.research.google.com/github/kylie17kelly/Machine-Learning-Projects/blob/main/Regularization.ipynb\" target=\"_parent\"><img src=\"https://colab.research.google.com/assets/colab-badge.svg\" alt=\"Open In Colab\"/></a>"
      ]
    },
    {
      "cell_type": "markdown",
      "source": [
        "#Regularization"
      ],
      "metadata": {
        "id": "m6-DRsStU_Ni"
      }
    },
    {
      "cell_type": "code",
      "execution_count": null,
      "metadata": {
        "id": "jI4CJVW4IcXx"
      },
      "outputs": [],
      "source": [
        "#importing packages\n",
        "import numpy as np\n",
        "import pandas as pd\n",
        "import matplotlib.pyplot as plt\n",
        "import seaborn as sns\n",
        "from sklearn.linear_model import LinearRegression\n",
        "import statsmodels.api as sm\n",
        "sns.set() \n",
        "\n",
        "#imported this at the end of the assignment to make code easier to read. \n",
        "import warnings\n",
        "warnings.filterwarnings('ignore')"
      ]
    },
    {
      "cell_type": "code",
      "source": [
        "#setting seed to 1000\n",
        "rand_state= 1000"
      ],
      "metadata": {
        "id": "mnxuKuJwIwK4"
      },
      "execution_count": null,
      "outputs": []
    },
    {
      "cell_type": "code",
      "source": [
        "#importing raw form of cleaned dataset\n",
        "df = pd.read_csv ('https://raw.githubusercontent.com/PJalgotrader/Machine_Learning-USU/fall22/data/HW_data/HW5/wage_regularization.csv')"
      ],
      "metadata": {
        "id": "85xAaNyIIyE3"
      },
      "execution_count": null,
      "outputs": []
    },
    {
      "cell_type": "code",
      "source": [
        "#Convert to html file\n",
        "\n",
        "%%shell\n",
        "jupyter nbconvert --to html /content/HW5_Regularization.ipynb"
      ],
      "metadata": {
        "colab": {
          "base_uri": "https://localhost:8080/"
        },
        "id": "kon5ytMrRyQL",
        "outputId": "d9d8c869-21a6-4ef4-deef-920d511b99b5"
      },
      "execution_count": null,
      "outputs": [
        {
          "output_type": "stream",
          "name": "stdout",
          "text": [
            "[NbConvertApp] Converting notebook /content/HW5_Regularization.ipynb to html\n",
            "[NbConvertApp] Writing 608317 bytes to /content/HW5_Regularization.html\n"
          ]
        },
        {
          "output_type": "execute_result",
          "data": {
            "text/plain": []
          },
          "metadata": {},
          "execution_count": 4
        }
      ]
    },
    {
      "cell_type": "code",
      "source": [
        "#returning first five columns to look at data\n",
        "df.head()"
      ],
      "metadata": {
        "colab": {
          "base_uri": "https://localhost:8080/",
          "height": 206
        },
        "id": "sXqgqdvxJBpk",
        "outputId": "09de6b47-4b1c-49f7-a170-5961baa6fd5a"
      },
      "execution_count": null,
      "outputs": [
        {
          "output_type": "execute_result",
          "data": {
            "text/plain": [
              "       wage  educ  educ2  educ3   educ4    educ5  age  age2   age3     age4  \\\n",
              "0  769000.0    12    144   1728   20736   248832   31   961  29791   923521   \n",
              "1  808000.0    18    324   5832  104976  1889568   37  1369  50653  1874161   \n",
              "2  825000.0    14    196   2744   38416   537824   33  1089  35937  1185921   \n",
              "3  650000.0    12    144   1728   20736   248832   32  1024  32768  1048576   \n",
              "4  562000.0    11    121   1331   14641   161051   34  1156  39304  1336336   \n",
              "\n",
              "       age5  \n",
              "0  28629151  \n",
              "1  69343957  \n",
              "2  39135393  \n",
              "3  33554432  \n",
              "4  45435424  "
            ],
            "text/html": [
              "\n",
              "  <div id=\"df-957c0ab0-084f-45dd-b6e1-41838dbe966f\">\n",
              "    <div class=\"colab-df-container\">\n",
              "      <div>\n",
              "<style scoped>\n",
              "    .dataframe tbody tr th:only-of-type {\n",
              "        vertical-align: middle;\n",
              "    }\n",
              "\n",
              "    .dataframe tbody tr th {\n",
              "        vertical-align: top;\n",
              "    }\n",
              "\n",
              "    .dataframe thead th {\n",
              "        text-align: right;\n",
              "    }\n",
              "</style>\n",
              "<table border=\"1\" class=\"dataframe\">\n",
              "  <thead>\n",
              "    <tr style=\"text-align: right;\">\n",
              "      <th></th>\n",
              "      <th>wage</th>\n",
              "      <th>educ</th>\n",
              "      <th>educ2</th>\n",
              "      <th>educ3</th>\n",
              "      <th>educ4</th>\n",
              "      <th>educ5</th>\n",
              "      <th>age</th>\n",
              "      <th>age2</th>\n",
              "      <th>age3</th>\n",
              "      <th>age4</th>\n",
              "      <th>age5</th>\n",
              "    </tr>\n",
              "  </thead>\n",
              "  <tbody>\n",
              "    <tr>\n",
              "      <th>0</th>\n",
              "      <td>769000.0</td>\n",
              "      <td>12</td>\n",
              "      <td>144</td>\n",
              "      <td>1728</td>\n",
              "      <td>20736</td>\n",
              "      <td>248832</td>\n",
              "      <td>31</td>\n",
              "      <td>961</td>\n",
              "      <td>29791</td>\n",
              "      <td>923521</td>\n",
              "      <td>28629151</td>\n",
              "    </tr>\n",
              "    <tr>\n",
              "      <th>1</th>\n",
              "      <td>808000.0</td>\n",
              "      <td>18</td>\n",
              "      <td>324</td>\n",
              "      <td>5832</td>\n",
              "      <td>104976</td>\n",
              "      <td>1889568</td>\n",
              "      <td>37</td>\n",
              "      <td>1369</td>\n",
              "      <td>50653</td>\n",
              "      <td>1874161</td>\n",
              "      <td>69343957</td>\n",
              "    </tr>\n",
              "    <tr>\n",
              "      <th>2</th>\n",
              "      <td>825000.0</td>\n",
              "      <td>14</td>\n",
              "      <td>196</td>\n",
              "      <td>2744</td>\n",
              "      <td>38416</td>\n",
              "      <td>537824</td>\n",
              "      <td>33</td>\n",
              "      <td>1089</td>\n",
              "      <td>35937</td>\n",
              "      <td>1185921</td>\n",
              "      <td>39135393</td>\n",
              "    </tr>\n",
              "    <tr>\n",
              "      <th>3</th>\n",
              "      <td>650000.0</td>\n",
              "      <td>12</td>\n",
              "      <td>144</td>\n",
              "      <td>1728</td>\n",
              "      <td>20736</td>\n",
              "      <td>248832</td>\n",
              "      <td>32</td>\n",
              "      <td>1024</td>\n",
              "      <td>32768</td>\n",
              "      <td>1048576</td>\n",
              "      <td>33554432</td>\n",
              "    </tr>\n",
              "    <tr>\n",
              "      <th>4</th>\n",
              "      <td>562000.0</td>\n",
              "      <td>11</td>\n",
              "      <td>121</td>\n",
              "      <td>1331</td>\n",
              "      <td>14641</td>\n",
              "      <td>161051</td>\n",
              "      <td>34</td>\n",
              "      <td>1156</td>\n",
              "      <td>39304</td>\n",
              "      <td>1336336</td>\n",
              "      <td>45435424</td>\n",
              "    </tr>\n",
              "  </tbody>\n",
              "</table>\n",
              "</div>\n",
              "      <button class=\"colab-df-convert\" onclick=\"convertToInteractive('df-957c0ab0-084f-45dd-b6e1-41838dbe966f')\"\n",
              "              title=\"Convert this dataframe to an interactive table.\"\n",
              "              style=\"display:none;\">\n",
              "        \n",
              "  <svg xmlns=\"http://www.w3.org/2000/svg\" height=\"24px\"viewBox=\"0 0 24 24\"\n",
              "       width=\"24px\">\n",
              "    <path d=\"M0 0h24v24H0V0z\" fill=\"none\"/>\n",
              "    <path d=\"M18.56 5.44l.94 2.06.94-2.06 2.06-.94-2.06-.94-.94-2.06-.94 2.06-2.06.94zm-11 1L8.5 8.5l.94-2.06 2.06-.94-2.06-.94L8.5 2.5l-.94 2.06-2.06.94zm10 10l.94 2.06.94-2.06 2.06-.94-2.06-.94-.94-2.06-.94 2.06-2.06.94z\"/><path d=\"M17.41 7.96l-1.37-1.37c-.4-.4-.92-.59-1.43-.59-.52 0-1.04.2-1.43.59L10.3 9.45l-7.72 7.72c-.78.78-.78 2.05 0 2.83L4 21.41c.39.39.9.59 1.41.59.51 0 1.02-.2 1.41-.59l7.78-7.78 2.81-2.81c.8-.78.8-2.07 0-2.86zM5.41 20L4 18.59l7.72-7.72 1.47 1.35L5.41 20z\"/>\n",
              "  </svg>\n",
              "      </button>\n",
              "      \n",
              "  <style>\n",
              "    .colab-df-container {\n",
              "      display:flex;\n",
              "      flex-wrap:wrap;\n",
              "      gap: 12px;\n",
              "    }\n",
              "\n",
              "    .colab-df-convert {\n",
              "      background-color: #E8F0FE;\n",
              "      border: none;\n",
              "      border-radius: 50%;\n",
              "      cursor: pointer;\n",
              "      display: none;\n",
              "      fill: #1967D2;\n",
              "      height: 32px;\n",
              "      padding: 0 0 0 0;\n",
              "      width: 32px;\n",
              "    }\n",
              "\n",
              "    .colab-df-convert:hover {\n",
              "      background-color: #E2EBFA;\n",
              "      box-shadow: 0px 1px 2px rgba(60, 64, 67, 0.3), 0px 1px 3px 1px rgba(60, 64, 67, 0.15);\n",
              "      fill: #174EA6;\n",
              "    }\n",
              "\n",
              "    [theme=dark] .colab-df-convert {\n",
              "      background-color: #3B4455;\n",
              "      fill: #D2E3FC;\n",
              "    }\n",
              "\n",
              "    [theme=dark] .colab-df-convert:hover {\n",
              "      background-color: #434B5C;\n",
              "      box-shadow: 0px 1px 3px 1px rgba(0, 0, 0, 0.15);\n",
              "      filter: drop-shadow(0px 1px 2px rgba(0, 0, 0, 0.3));\n",
              "      fill: #FFFFFF;\n",
              "    }\n",
              "  </style>\n",
              "\n",
              "      <script>\n",
              "        const buttonEl =\n",
              "          document.querySelector('#df-957c0ab0-084f-45dd-b6e1-41838dbe966f button.colab-df-convert');\n",
              "        buttonEl.style.display =\n",
              "          google.colab.kernel.accessAllowed ? 'block' : 'none';\n",
              "\n",
              "        async function convertToInteractive(key) {\n",
              "          const element = document.querySelector('#df-957c0ab0-084f-45dd-b6e1-41838dbe966f');\n",
              "          const dataTable =\n",
              "            await google.colab.kernel.invokeFunction('convertToInteractive',\n",
              "                                                     [key], {});\n",
              "          if (!dataTable) return;\n",
              "\n",
              "          const docLinkHtml = 'Like what you see? Visit the ' +\n",
              "            '<a target=\"_blank\" href=https://colab.research.google.com/notebooks/data_table.ipynb>data table notebook</a>'\n",
              "            + ' to learn more about interactive tables.';\n",
              "          element.innerHTML = '';\n",
              "          dataTable['output_type'] = 'display_data';\n",
              "          await google.colab.output.renderOutput(dataTable, element);\n",
              "          const docLink = document.createElement('div');\n",
              "          docLink.innerHTML = docLinkHtml;\n",
              "          element.appendChild(docLink);\n",
              "        }\n",
              "      </script>\n",
              "    </div>\n",
              "  </div>\n",
              "  "
            ]
          },
          "metadata": {},
          "execution_count": 5
        }
      ]
    },
    {
      "cell_type": "markdown",
      "source": [
        "# **Question 1**"
      ],
      "metadata": {
        "id": "mbvhjTevW0DW"
      }
    },
    {
      "cell_type": "code",
      "source": [
        "#importing package to scale features\n",
        "from sklearn.preprocessing import StandardScaler"
      ],
      "metadata": {
        "id": "Z7dRyTfaJG_z"
      },
      "execution_count": null,
      "outputs": []
    },
    {
      "cell_type": "code",
      "source": [
        "#standarizing new variables\n",
        "#calling new standarized datafram df_sc\n",
        "scaler=StandardScaler()\n",
        "df_sc= scaler.fit_transform(df)\n",
        "df_sc"
      ],
      "metadata": {
        "colab": {
          "base_uri": "https://localhost:8080/"
        },
        "id": "qmn22MHZJJT6",
        "outputId": "f1355065-7edb-4dbe-9302-a6d4195c7507"
      },
      "execution_count": null,
      "outputs": [
        {
          "output_type": "execute_result",
          "data": {
            "text/plain": [
              "array([[-0.46751952, -0.66885143, -0.681389  , ..., -0.70895446,\n",
              "        -0.72303072, -0.73357606],\n",
              "       [-0.37101938,  2.06403752,  2.2236843 , ...,  1.29793053,\n",
              "         1.31081019,  1.32021092],\n",
              "       [-0.32895523,  0.24211155,  0.1578544 , ..., -0.11772087,\n",
              "        -0.16164066, -0.20360711],\n",
              "       ...,\n",
              "       [-1.03909722, -0.66885143, -0.681389  , ..., -1.46305145,\n",
              "        -1.38383005, -1.30957655],\n",
              "       [-0.21018583, -0.66885143, -0.681389  , ..., -1.46305145,\n",
              "        -1.38383005, -1.30957655],\n",
              "       [ 0.10405818, -0.66885143, -0.681389  , ...,  0.54970162,\n",
              "         0.51165088,  0.4716505 ]])"
            ]
          },
          "metadata": {},
          "execution_count": 7
        }
      ]
    },
    {
      "cell_type": "code",
      "source": [
        "#returning first five columns of new dataset df_sc\n",
        "#looking at the coefficients, the features have been scaled\n",
        "#scaling the features helps minimize the cost function\n",
        "df_sc = pd.DataFrame(df_sc, columns=df.columns)\n",
        "df_sc.head()\n",
        "\n",
        "#below is out feature space. We will use all the features"
      ],
      "metadata": {
        "colab": {
          "base_uri": "https://localhost:8080/",
          "height": 206
        },
        "id": "lbKiiwywUK7p",
        "outputId": "d7a93a03-86a4-420b-8360-c31b90a924b2"
      },
      "execution_count": null,
      "outputs": [
        {
          "output_type": "execute_result",
          "data": {
            "text/plain": [
              "       wage      educ     educ2     educ3     educ4     educ5       age  \\\n",
              "0 -0.467520 -0.668851 -0.681389 -0.683465 -0.677116 -0.664268 -0.669710   \n",
              "1 -0.371019  2.064038  2.223684  2.379630  2.530868  2.675999  1.261947   \n",
              "2 -0.328955  0.242112  0.157854  0.074845 -0.003836 -0.075928 -0.025824   \n",
              "3 -0.761969 -0.668851 -0.681389 -0.683465 -0.677116 -0.664268 -0.347767   \n",
              "4 -0.979713 -1.124333 -1.052593 -0.979773 -0.909223 -0.842975  0.296119   \n",
              "\n",
              "       age2      age3      age4      age5  \n",
              "0 -0.691203 -0.708954 -0.723031 -0.733576  \n",
              "1  1.281608  1.297931  1.310810  1.320211  \n",
              "2 -0.072282 -0.117721 -0.161641 -0.203607  \n",
              "3 -0.386577 -0.422573 -0.455483 -0.485129  \n",
              "4  0.251685  0.206178  0.160164  0.114187  "
            ],
            "text/html": [
              "\n",
              "  <div id=\"df-801a69ce-f239-4002-83dd-481fc2a4863c\">\n",
              "    <div class=\"colab-df-container\">\n",
              "      <div>\n",
              "<style scoped>\n",
              "    .dataframe tbody tr th:only-of-type {\n",
              "        vertical-align: middle;\n",
              "    }\n",
              "\n",
              "    .dataframe tbody tr th {\n",
              "        vertical-align: top;\n",
              "    }\n",
              "\n",
              "    .dataframe thead th {\n",
              "        text-align: right;\n",
              "    }\n",
              "</style>\n",
              "<table border=\"1\" class=\"dataframe\">\n",
              "  <thead>\n",
              "    <tr style=\"text-align: right;\">\n",
              "      <th></th>\n",
              "      <th>wage</th>\n",
              "      <th>educ</th>\n",
              "      <th>educ2</th>\n",
              "      <th>educ3</th>\n",
              "      <th>educ4</th>\n",
              "      <th>educ5</th>\n",
              "      <th>age</th>\n",
              "      <th>age2</th>\n",
              "      <th>age3</th>\n",
              "      <th>age4</th>\n",
              "      <th>age5</th>\n",
              "    </tr>\n",
              "  </thead>\n",
              "  <tbody>\n",
              "    <tr>\n",
              "      <th>0</th>\n",
              "      <td>-0.467520</td>\n",
              "      <td>-0.668851</td>\n",
              "      <td>-0.681389</td>\n",
              "      <td>-0.683465</td>\n",
              "      <td>-0.677116</td>\n",
              "      <td>-0.664268</td>\n",
              "      <td>-0.669710</td>\n",
              "      <td>-0.691203</td>\n",
              "      <td>-0.708954</td>\n",
              "      <td>-0.723031</td>\n",
              "      <td>-0.733576</td>\n",
              "    </tr>\n",
              "    <tr>\n",
              "      <th>1</th>\n",
              "      <td>-0.371019</td>\n",
              "      <td>2.064038</td>\n",
              "      <td>2.223684</td>\n",
              "      <td>2.379630</td>\n",
              "      <td>2.530868</td>\n",
              "      <td>2.675999</td>\n",
              "      <td>1.261947</td>\n",
              "      <td>1.281608</td>\n",
              "      <td>1.297931</td>\n",
              "      <td>1.310810</td>\n",
              "      <td>1.320211</td>\n",
              "    </tr>\n",
              "    <tr>\n",
              "      <th>2</th>\n",
              "      <td>-0.328955</td>\n",
              "      <td>0.242112</td>\n",
              "      <td>0.157854</td>\n",
              "      <td>0.074845</td>\n",
              "      <td>-0.003836</td>\n",
              "      <td>-0.075928</td>\n",
              "      <td>-0.025824</td>\n",
              "      <td>-0.072282</td>\n",
              "      <td>-0.117721</td>\n",
              "      <td>-0.161641</td>\n",
              "      <td>-0.203607</td>\n",
              "    </tr>\n",
              "    <tr>\n",
              "      <th>3</th>\n",
              "      <td>-0.761969</td>\n",
              "      <td>-0.668851</td>\n",
              "      <td>-0.681389</td>\n",
              "      <td>-0.683465</td>\n",
              "      <td>-0.677116</td>\n",
              "      <td>-0.664268</td>\n",
              "      <td>-0.347767</td>\n",
              "      <td>-0.386577</td>\n",
              "      <td>-0.422573</td>\n",
              "      <td>-0.455483</td>\n",
              "      <td>-0.485129</td>\n",
              "    </tr>\n",
              "    <tr>\n",
              "      <th>4</th>\n",
              "      <td>-0.979713</td>\n",
              "      <td>-1.124333</td>\n",
              "      <td>-1.052593</td>\n",
              "      <td>-0.979773</td>\n",
              "      <td>-0.909223</td>\n",
              "      <td>-0.842975</td>\n",
              "      <td>0.296119</td>\n",
              "      <td>0.251685</td>\n",
              "      <td>0.206178</td>\n",
              "      <td>0.160164</td>\n",
              "      <td>0.114187</td>\n",
              "    </tr>\n",
              "  </tbody>\n",
              "</table>\n",
              "</div>\n",
              "      <button class=\"colab-df-convert\" onclick=\"convertToInteractive('df-801a69ce-f239-4002-83dd-481fc2a4863c')\"\n",
              "              title=\"Convert this dataframe to an interactive table.\"\n",
              "              style=\"display:none;\">\n",
              "        \n",
              "  <svg xmlns=\"http://www.w3.org/2000/svg\" height=\"24px\"viewBox=\"0 0 24 24\"\n",
              "       width=\"24px\">\n",
              "    <path d=\"M0 0h24v24H0V0z\" fill=\"none\"/>\n",
              "    <path d=\"M18.56 5.44l.94 2.06.94-2.06 2.06-.94-2.06-.94-.94-2.06-.94 2.06-2.06.94zm-11 1L8.5 8.5l.94-2.06 2.06-.94-2.06-.94L8.5 2.5l-.94 2.06-2.06.94zm10 10l.94 2.06.94-2.06 2.06-.94-2.06-.94-.94-2.06-.94 2.06-2.06.94z\"/><path d=\"M17.41 7.96l-1.37-1.37c-.4-.4-.92-.59-1.43-.59-.52 0-1.04.2-1.43.59L10.3 9.45l-7.72 7.72c-.78.78-.78 2.05 0 2.83L4 21.41c.39.39.9.59 1.41.59.51 0 1.02-.2 1.41-.59l7.78-7.78 2.81-2.81c.8-.78.8-2.07 0-2.86zM5.41 20L4 18.59l7.72-7.72 1.47 1.35L5.41 20z\"/>\n",
              "  </svg>\n",
              "      </button>\n",
              "      \n",
              "  <style>\n",
              "    .colab-df-container {\n",
              "      display:flex;\n",
              "      flex-wrap:wrap;\n",
              "      gap: 12px;\n",
              "    }\n",
              "\n",
              "    .colab-df-convert {\n",
              "      background-color: #E8F0FE;\n",
              "      border: none;\n",
              "      border-radius: 50%;\n",
              "      cursor: pointer;\n",
              "      display: none;\n",
              "      fill: #1967D2;\n",
              "      height: 32px;\n",
              "      padding: 0 0 0 0;\n",
              "      width: 32px;\n",
              "    }\n",
              "\n",
              "    .colab-df-convert:hover {\n",
              "      background-color: #E2EBFA;\n",
              "      box-shadow: 0px 1px 2px rgba(60, 64, 67, 0.3), 0px 1px 3px 1px rgba(60, 64, 67, 0.15);\n",
              "      fill: #174EA6;\n",
              "    }\n",
              "\n",
              "    [theme=dark] .colab-df-convert {\n",
              "      background-color: #3B4455;\n",
              "      fill: #D2E3FC;\n",
              "    }\n",
              "\n",
              "    [theme=dark] .colab-df-convert:hover {\n",
              "      background-color: #434B5C;\n",
              "      box-shadow: 0px 1px 3px 1px rgba(0, 0, 0, 0.15);\n",
              "      filter: drop-shadow(0px 1px 2px rgba(0, 0, 0, 0.3));\n",
              "      fill: #FFFFFF;\n",
              "    }\n",
              "  </style>\n",
              "\n",
              "      <script>\n",
              "        const buttonEl =\n",
              "          document.querySelector('#df-801a69ce-f239-4002-83dd-481fc2a4863c button.colab-df-convert');\n",
              "        buttonEl.style.display =\n",
              "          google.colab.kernel.accessAllowed ? 'block' : 'none';\n",
              "\n",
              "        async function convertToInteractive(key) {\n",
              "          const element = document.querySelector('#df-801a69ce-f239-4002-83dd-481fc2a4863c');\n",
              "          const dataTable =\n",
              "            await google.colab.kernel.invokeFunction('convertToInteractive',\n",
              "                                                     [key], {});\n",
              "          if (!dataTable) return;\n",
              "\n",
              "          const docLinkHtml = 'Like what you see? Visit the ' +\n",
              "            '<a target=\"_blank\" href=https://colab.research.google.com/notebooks/data_table.ipynb>data table notebook</a>'\n",
              "            + ' to learn more about interactive tables.';\n",
              "          element.innerHTML = '';\n",
              "          dataTable['output_type'] = 'display_data';\n",
              "          await google.colab.output.renderOutput(dataTable, element);\n",
              "          const docLink = document.createElement('div');\n",
              "          docLink.innerHTML = docLinkHtml;\n",
              "          element.appendChild(docLink);\n",
              "        }\n",
              "      </script>\n",
              "    </div>\n",
              "  </div>\n",
              "  "
            ]
          },
          "metadata": {},
          "execution_count": 8
        }
      ]
    },
    {
      "cell_type": "markdown",
      "source": [
        "# **Question 2**"
      ],
      "metadata": {
        "id": "tefFu4LDW440"
      }
    },
    {
      "cell_type": "code",
      "source": [
        "#splitting the data into test (20%) and train (80%)\n",
        "y = df_sc['wage']\n",
        "X = df_sc.drop('wage', axis=1) # becareful inplace= False\n",
        "\n",
        "from sklearn.model_selection import train_test_split\n",
        "X_train, X_test, y_train, y_test = train_test_split(X, y, test_size=0.2, random_state=rand_state)\n",
        "X_train.head()"
      ],
      "metadata": {
        "colab": {
          "base_uri": "https://localhost:8080/",
          "height": 206
        },
        "id": "ZH78uiecJT2A",
        "outputId": "f7104c20-6b6a-43d9-91a7-63f5dd4509e6"
      },
      "execution_count": null,
      "outputs": [
        {
          "output_type": "execute_result",
          "data": {
            "text/plain": [
              "         educ     educ2     educ3     educ4     educ5       age      age2  \\\n",
              "932 -0.668851 -0.681389 -0.683465 -0.677116 -0.664268 -1.635539 -1.547054   \n",
              "82  -1.124333 -1.052593 -0.979773 -0.909223 -0.842975  1.261947  1.281608   \n",
              "370  1.608556  1.658809  1.693718  1.713830  1.719745  1.583890  1.644257   \n",
              "452 -0.668851 -0.681389 -0.683465 -0.677116 -0.664268  0.940004  0.928630   \n",
              "132 -0.668851 -0.681389 -0.683465 -0.677116 -0.664268 -0.669710 -0.691203   \n",
              "\n",
              "         age3      age4      age5  \n",
              "932 -1.463051 -1.383830 -1.309577  \n",
              "82   1.297931  1.310810  1.320211  \n",
              "370  1.703790  1.762179  1.819156  \n",
              "452  0.913427  0.894592  0.872387  \n",
              "132 -0.708954 -0.723031 -0.733576  "
            ],
            "text/html": [
              "\n",
              "  <div id=\"df-c2968e44-f2f7-4e25-8fcb-cfc31af0514d\">\n",
              "    <div class=\"colab-df-container\">\n",
              "      <div>\n",
              "<style scoped>\n",
              "    .dataframe tbody tr th:only-of-type {\n",
              "        vertical-align: middle;\n",
              "    }\n",
              "\n",
              "    .dataframe tbody tr th {\n",
              "        vertical-align: top;\n",
              "    }\n",
              "\n",
              "    .dataframe thead th {\n",
              "        text-align: right;\n",
              "    }\n",
              "</style>\n",
              "<table border=\"1\" class=\"dataframe\">\n",
              "  <thead>\n",
              "    <tr style=\"text-align: right;\">\n",
              "      <th></th>\n",
              "      <th>educ</th>\n",
              "      <th>educ2</th>\n",
              "      <th>educ3</th>\n",
              "      <th>educ4</th>\n",
              "      <th>educ5</th>\n",
              "      <th>age</th>\n",
              "      <th>age2</th>\n",
              "      <th>age3</th>\n",
              "      <th>age4</th>\n",
              "      <th>age5</th>\n",
              "    </tr>\n",
              "  </thead>\n",
              "  <tbody>\n",
              "    <tr>\n",
              "      <th>932</th>\n",
              "      <td>-0.668851</td>\n",
              "      <td>-0.681389</td>\n",
              "      <td>-0.683465</td>\n",
              "      <td>-0.677116</td>\n",
              "      <td>-0.664268</td>\n",
              "      <td>-1.635539</td>\n",
              "      <td>-1.547054</td>\n",
              "      <td>-1.463051</td>\n",
              "      <td>-1.383830</td>\n",
              "      <td>-1.309577</td>\n",
              "    </tr>\n",
              "    <tr>\n",
              "      <th>82</th>\n",
              "      <td>-1.124333</td>\n",
              "      <td>-1.052593</td>\n",
              "      <td>-0.979773</td>\n",
              "      <td>-0.909223</td>\n",
              "      <td>-0.842975</td>\n",
              "      <td>1.261947</td>\n",
              "      <td>1.281608</td>\n",
              "      <td>1.297931</td>\n",
              "      <td>1.310810</td>\n",
              "      <td>1.320211</td>\n",
              "    </tr>\n",
              "    <tr>\n",
              "      <th>370</th>\n",
              "      <td>1.608556</td>\n",
              "      <td>1.658809</td>\n",
              "      <td>1.693718</td>\n",
              "      <td>1.713830</td>\n",
              "      <td>1.719745</td>\n",
              "      <td>1.583890</td>\n",
              "      <td>1.644257</td>\n",
              "      <td>1.703790</td>\n",
              "      <td>1.762179</td>\n",
              "      <td>1.819156</td>\n",
              "    </tr>\n",
              "    <tr>\n",
              "      <th>452</th>\n",
              "      <td>-0.668851</td>\n",
              "      <td>-0.681389</td>\n",
              "      <td>-0.683465</td>\n",
              "      <td>-0.677116</td>\n",
              "      <td>-0.664268</td>\n",
              "      <td>0.940004</td>\n",
              "      <td>0.928630</td>\n",
              "      <td>0.913427</td>\n",
              "      <td>0.894592</td>\n",
              "      <td>0.872387</td>\n",
              "    </tr>\n",
              "    <tr>\n",
              "      <th>132</th>\n",
              "      <td>-0.668851</td>\n",
              "      <td>-0.681389</td>\n",
              "      <td>-0.683465</td>\n",
              "      <td>-0.677116</td>\n",
              "      <td>-0.664268</td>\n",
              "      <td>-0.669710</td>\n",
              "      <td>-0.691203</td>\n",
              "      <td>-0.708954</td>\n",
              "      <td>-0.723031</td>\n",
              "      <td>-0.733576</td>\n",
              "    </tr>\n",
              "  </tbody>\n",
              "</table>\n",
              "</div>\n",
              "      <button class=\"colab-df-convert\" onclick=\"convertToInteractive('df-c2968e44-f2f7-4e25-8fcb-cfc31af0514d')\"\n",
              "              title=\"Convert this dataframe to an interactive table.\"\n",
              "              style=\"display:none;\">\n",
              "        \n",
              "  <svg xmlns=\"http://www.w3.org/2000/svg\" height=\"24px\"viewBox=\"0 0 24 24\"\n",
              "       width=\"24px\">\n",
              "    <path d=\"M0 0h24v24H0V0z\" fill=\"none\"/>\n",
              "    <path d=\"M18.56 5.44l.94 2.06.94-2.06 2.06-.94-2.06-.94-.94-2.06-.94 2.06-2.06.94zm-11 1L8.5 8.5l.94-2.06 2.06-.94-2.06-.94L8.5 2.5l-.94 2.06-2.06.94zm10 10l.94 2.06.94-2.06 2.06-.94-2.06-.94-.94-2.06-.94 2.06-2.06.94z\"/><path d=\"M17.41 7.96l-1.37-1.37c-.4-.4-.92-.59-1.43-.59-.52 0-1.04.2-1.43.59L10.3 9.45l-7.72 7.72c-.78.78-.78 2.05 0 2.83L4 21.41c.39.39.9.59 1.41.59.51 0 1.02-.2 1.41-.59l7.78-7.78 2.81-2.81c.8-.78.8-2.07 0-2.86zM5.41 20L4 18.59l7.72-7.72 1.47 1.35L5.41 20z\"/>\n",
              "  </svg>\n",
              "      </button>\n",
              "      \n",
              "  <style>\n",
              "    .colab-df-container {\n",
              "      display:flex;\n",
              "      flex-wrap:wrap;\n",
              "      gap: 12px;\n",
              "    }\n",
              "\n",
              "    .colab-df-convert {\n",
              "      background-color: #E8F0FE;\n",
              "      border: none;\n",
              "      border-radius: 50%;\n",
              "      cursor: pointer;\n",
              "      display: none;\n",
              "      fill: #1967D2;\n",
              "      height: 32px;\n",
              "      padding: 0 0 0 0;\n",
              "      width: 32px;\n",
              "    }\n",
              "\n",
              "    .colab-df-convert:hover {\n",
              "      background-color: #E2EBFA;\n",
              "      box-shadow: 0px 1px 2px rgba(60, 64, 67, 0.3), 0px 1px 3px 1px rgba(60, 64, 67, 0.15);\n",
              "      fill: #174EA6;\n",
              "    }\n",
              "\n",
              "    [theme=dark] .colab-df-convert {\n",
              "      background-color: #3B4455;\n",
              "      fill: #D2E3FC;\n",
              "    }\n",
              "\n",
              "    [theme=dark] .colab-df-convert:hover {\n",
              "      background-color: #434B5C;\n",
              "      box-shadow: 0px 1px 3px 1px rgba(0, 0, 0, 0.15);\n",
              "      filter: drop-shadow(0px 1px 2px rgba(0, 0, 0, 0.3));\n",
              "      fill: #FFFFFF;\n",
              "    }\n",
              "  </style>\n",
              "\n",
              "      <script>\n",
              "        const buttonEl =\n",
              "          document.querySelector('#df-c2968e44-f2f7-4e25-8fcb-cfc31af0514d button.colab-df-convert');\n",
              "        buttonEl.style.display =\n",
              "          google.colab.kernel.accessAllowed ? 'block' : 'none';\n",
              "\n",
              "        async function convertToInteractive(key) {\n",
              "          const element = document.querySelector('#df-c2968e44-f2f7-4e25-8fcb-cfc31af0514d');\n",
              "          const dataTable =\n",
              "            await google.colab.kernel.invokeFunction('convertToInteractive',\n",
              "                                                     [key], {});\n",
              "          if (!dataTable) return;\n",
              "\n",
              "          const docLinkHtml = 'Like what you see? Visit the ' +\n",
              "            '<a target=\"_blank\" href=https://colab.research.google.com/notebooks/data_table.ipynb>data table notebook</a>'\n",
              "            + ' to learn more about interactive tables.';\n",
              "          element.innerHTML = '';\n",
              "          dataTable['output_type'] = 'display_data';\n",
              "          await google.colab.output.renderOutput(dataTable, element);\n",
              "          const docLink = document.createElement('div');\n",
              "          docLink.innerHTML = docLinkHtml;\n",
              "          element.appendChild(docLink);\n",
              "        }\n",
              "      </script>\n",
              "    </div>\n",
              "  </div>\n",
              "  "
            ]
          },
          "metadata": {},
          "execution_count": 9
        }
      ]
    },
    {
      "cell_type": "markdown",
      "source": [
        "# **Question 3**"
      ],
      "metadata": {
        "id": "hXBam8kQW8xD"
      }
    },
    {
      "cell_type": "code",
      "source": [
        "#using stats.model.api package to use sm.OLS().\n",
        "#this gives us the output for OLS to use as a benchmark for our regularization outputs later in the code\n",
        "model = sm.OLS(y_train, X_train)\n",
        "results = model.fit()\n",
        "print(results.summary())"
      ],
      "metadata": {
        "colab": {
          "base_uri": "https://localhost:8080/"
        },
        "id": "yj8WvzFkJdeU",
        "outputId": "cb0b7fe2-a55d-46a0-fbe5-938d2dfc546e"
      },
      "execution_count": null,
      "outputs": [
        {
          "output_type": "stream",
          "name": "stdout",
          "text": [
            "                                 OLS Regression Results                                \n",
            "=======================================================================================\n",
            "Dep. Variable:                   wage   R-squared (uncentered):                   0.128\n",
            "Model:                            OLS   Adj. R-squared (uncentered):              0.116\n",
            "Method:                 Least Squares   F-statistic:                              10.84\n",
            "Date:                Wed, 05 Oct 2022   Prob (F-statistic):                    2.52e-17\n",
            "Time:                        17:53:33   Log-Likelihood:                         -1016.0\n",
            "No. Observations:                 748   AIC:                                      2052.\n",
            "Df Residuals:                     738   BIC:                                      2098.\n",
            "Df Model:                          10                                                  \n",
            "Covariance Type:            nonrobust                                                  \n",
            "==============================================================================\n",
            "                 coef    std err          t      P>|t|      [0.025      0.975]\n",
            "------------------------------------------------------------------------------\n",
            "educ        -110.2978    191.836     -0.575      0.565    -486.906     266.311\n",
            "educ2        463.9321    823.379      0.563      0.573   -1152.511    2080.376\n",
            "educ3       -738.6896   1337.965     -0.552      0.581   -3365.360    1887.981\n",
            "educ4        529.2100    973.943      0.543      0.587   -1382.818    2441.238\n",
            "educ5       -143.9036    267.597     -0.538      0.591    -669.246     381.439\n",
            "age        -1298.4397   4394.558     -0.295      0.768   -9925.763    7328.884\n",
            "age2        5176.5062   1.79e+04      0.290      0.772   -2.99e+04    4.02e+04\n",
            "age3       -7800.5957   2.73e+04     -0.285      0.775   -6.15e+04    4.58e+04\n",
            "age4        5266.4941   1.87e+04      0.282      0.778   -3.14e+04    4.19e+04\n",
            "age5       -1343.8589   4790.724     -0.281      0.779   -1.07e+04    8061.212\n",
            "==============================================================================\n",
            "Omnibus:                      202.206   Durbin-Watson:                   1.936\n",
            "Prob(Omnibus):                  0.000   Jarque-Bera (JB):              653.291\n",
            "Skew:                           1.286   Prob(JB):                    1.38e-142\n",
            "Kurtosis:                       6.787   Cond. No.                     2.44e+06\n",
            "==============================================================================\n",
            "\n",
            "Notes:\n",
            "[1] R² is computed without centering (uncentered) since the model does not contain a constant.\n",
            "[2] Standard Errors assume that the covariance matrix of the errors is correctly specified.\n",
            "[3] The condition number is large, 2.44e+06. This might indicate that there are\n",
            "strong multicollinearity or other numerical problems.\n"
          ]
        }
      ]
    },
    {
      "cell_type": "markdown",
      "source": [
        "### Question 3.2 and 3.3"
      ],
      "metadata": {
        "id": "DldZk34mXBtV"
      }
    },
    {
      "cell_type": "markdown",
      "source": [
        "\n",
        "\n",
        "> The r-squared of the OLS output is 0.128. This means that 12.8% of the change in wage is due to our feature variables. This r-squared level is low, meaning the linear model does a poor job of predicting the test data. In the output above, none of the features  are significant at a 5% level---all of the p-values are greater than 0.05. That means that the features are insignificant and not different than zero. \n",
        "\n"
      ],
      "metadata": {
        "id": "NEFiXBxaLKaE"
      }
    },
    {
      "cell_type": "markdown",
      "source": [
        "# **Question 4**"
      ],
      "metadata": {
        "id": "XQrB-hYvXSk5"
      }
    },
    {
      "cell_type": "code",
      "source": [
        "from sklearn.linear_model import LinearRegression, Ridge,RidgeCV, Lasso, LassoCV, ElasticNet, ElasticNetCV"
      ],
      "metadata": {
        "id": "LNxvdWwYKt2P"
      },
      "execution_count": null,
      "outputs": []
    },
    {
      "cell_type": "markdown",
      "source": [
        "### Question 4.1"
      ],
      "metadata": {
        "id": "3xUro-ZDXWzb"
      }
    },
    {
      "cell_type": "code",
      "source": [
        "# starting with default parameters:\n",
        "model_linear = LinearRegression()\n",
        "model_ridge = Ridge(0)\n",
        "model_lasso = Lasso(0)\n",
        "model_net = ElasticNet(0)"
      ],
      "metadata": {
        "id": "slv308LCLfG1"
      },
      "execution_count": null,
      "outputs": []
    },
    {
      "cell_type": "markdown",
      "source": [
        "### Question 4.2"
      ],
      "metadata": {
        "id": "tF5pYUmgXmbG"
      }
    },
    {
      "cell_type": "code",
      "source": [
        "#training models with default features\n",
        "#saving predicted values for the test set as y_hat\n",
        "y_hat_linear= model_linear.fit(X_train, y_train).predict(X_test)\n",
        "y_hat_ridge = model_ridge.fit(X_train, y_train).predict(X_test)\n",
        "y_hat_lasso = model_lasso.fit(X_train, y_train).predict(X_test)\n",
        "y_hat_net   = model_net.fit(X_train, y_train).predict(X_test)"
      ],
      "metadata": {
        "id": "c3Zq-wOCLgtl"
      },
      "execution_count": null,
      "outputs": []
    },
    {
      "cell_type": "markdown",
      "source": [
        "### Question 4.3"
      ],
      "metadata": {
        "id": "-IBb0G1eXuMu"
      }
    },
    {
      "cell_type": "code",
      "source": [
        "#constructing data frame of the predicted values for the estimated output of all th emodels\n",
        "#defining new data frame as df_predictions\n",
        "df_predictions = pd.DataFrame({'y_test':y_test,\n",
        "                               'y_hat_linear':y_hat_linear,\n",
        "                               'y_hat_ridge':y_hat_ridge,\n",
        "                               'y_hat_lasso':y_hat_lasso,\n",
        "                               'y_hat_net':y_hat_net})\n",
        "\n",
        "#returning first five rows of data to see columns\n",
        "#outputted columns are our predicted values for wage, using the different models with default features\n",
        "df_predictions.head()"
      ],
      "metadata": {
        "colab": {
          "base_uri": "https://localhost:8080/"
        },
        "id": "MaY3-1RULlMr",
        "outputId": "54db204b-11ab-4017-cdf4-003901173064"
      },
      "execution_count": null,
      "outputs": [
        {
          "output_type": "execute_result",
          "data": {
            "text/plain": [
              "       y_test  y_hat_linear  y_hat_ridge  y_hat_lasso  y_hat_net\n",
              "434  0.042199     -0.267170    -0.267169    -0.201887  -0.201887\n",
              "238  1.910343      0.699718     0.699715     0.690517   0.690517\n",
              "531 -0.700110     -0.065042    -0.065041     0.040769   0.040769\n",
              "157  2.328510      0.689508     0.689508     0.642706   0.642706\n",
              "601  1.341239      0.208652     0.208655     0.169808   0.169808"
            ],
            "text/html": [
              "\n",
              "  <div id=\"df-3f1a08ae-0489-4c14-8118-ff9606f247fa\">\n",
              "    <div class=\"colab-df-container\">\n",
              "      <div>\n",
              "<style scoped>\n",
              "    .dataframe tbody tr th:only-of-type {\n",
              "        vertical-align: middle;\n",
              "    }\n",
              "\n",
              "    .dataframe tbody tr th {\n",
              "        vertical-align: top;\n",
              "    }\n",
              "\n",
              "    .dataframe thead th {\n",
              "        text-align: right;\n",
              "    }\n",
              "</style>\n",
              "<table border=\"1\" class=\"dataframe\">\n",
              "  <thead>\n",
              "    <tr style=\"text-align: right;\">\n",
              "      <th></th>\n",
              "      <th>y_test</th>\n",
              "      <th>y_hat_linear</th>\n",
              "      <th>y_hat_ridge</th>\n",
              "      <th>y_hat_lasso</th>\n",
              "      <th>y_hat_net</th>\n",
              "    </tr>\n",
              "  </thead>\n",
              "  <tbody>\n",
              "    <tr>\n",
              "      <th>434</th>\n",
              "      <td>0.042199</td>\n",
              "      <td>-0.267170</td>\n",
              "      <td>-0.267169</td>\n",
              "      <td>-0.201887</td>\n",
              "      <td>-0.201887</td>\n",
              "    </tr>\n",
              "    <tr>\n",
              "      <th>238</th>\n",
              "      <td>1.910343</td>\n",
              "      <td>0.699718</td>\n",
              "      <td>0.699715</td>\n",
              "      <td>0.690517</td>\n",
              "      <td>0.690517</td>\n",
              "    </tr>\n",
              "    <tr>\n",
              "      <th>531</th>\n",
              "      <td>-0.700110</td>\n",
              "      <td>-0.065042</td>\n",
              "      <td>-0.065041</td>\n",
              "      <td>0.040769</td>\n",
              "      <td>0.040769</td>\n",
              "    </tr>\n",
              "    <tr>\n",
              "      <th>157</th>\n",
              "      <td>2.328510</td>\n",
              "      <td>0.689508</td>\n",
              "      <td>0.689508</td>\n",
              "      <td>0.642706</td>\n",
              "      <td>0.642706</td>\n",
              "    </tr>\n",
              "    <tr>\n",
              "      <th>601</th>\n",
              "      <td>1.341239</td>\n",
              "      <td>0.208652</td>\n",
              "      <td>0.208655</td>\n",
              "      <td>0.169808</td>\n",
              "      <td>0.169808</td>\n",
              "    </tr>\n",
              "  </tbody>\n",
              "</table>\n",
              "</div>\n",
              "      <button class=\"colab-df-convert\" onclick=\"convertToInteractive('df-3f1a08ae-0489-4c14-8118-ff9606f247fa')\"\n",
              "              title=\"Convert this dataframe to an interactive table.\"\n",
              "              style=\"display:none;\">\n",
              "        \n",
              "  <svg xmlns=\"http://www.w3.org/2000/svg\" height=\"24px\"viewBox=\"0 0 24 24\"\n",
              "       width=\"24px\">\n",
              "    <path d=\"M0 0h24v24H0V0z\" fill=\"none\"/>\n",
              "    <path d=\"M18.56 5.44l.94 2.06.94-2.06 2.06-.94-2.06-.94-.94-2.06-.94 2.06-2.06.94zm-11 1L8.5 8.5l.94-2.06 2.06-.94-2.06-.94L8.5 2.5l-.94 2.06-2.06.94zm10 10l.94 2.06.94-2.06 2.06-.94-2.06-.94-.94-2.06-.94 2.06-2.06.94z\"/><path d=\"M17.41 7.96l-1.37-1.37c-.4-.4-.92-.59-1.43-.59-.52 0-1.04.2-1.43.59L10.3 9.45l-7.72 7.72c-.78.78-.78 2.05 0 2.83L4 21.41c.39.39.9.59 1.41.59.51 0 1.02-.2 1.41-.59l7.78-7.78 2.81-2.81c.8-.78.8-2.07 0-2.86zM5.41 20L4 18.59l7.72-7.72 1.47 1.35L5.41 20z\"/>\n",
              "  </svg>\n",
              "      </button>\n",
              "      \n",
              "  <style>\n",
              "    .colab-df-container {\n",
              "      display:flex;\n",
              "      flex-wrap:wrap;\n",
              "      gap: 12px;\n",
              "    }\n",
              "\n",
              "    .colab-df-convert {\n",
              "      background-color: #E8F0FE;\n",
              "      border: none;\n",
              "      border-radius: 50%;\n",
              "      cursor: pointer;\n",
              "      display: none;\n",
              "      fill: #1967D2;\n",
              "      height: 32px;\n",
              "      padding: 0 0 0 0;\n",
              "      width: 32px;\n",
              "    }\n",
              "\n",
              "    .colab-df-convert:hover {\n",
              "      background-color: #E2EBFA;\n",
              "      box-shadow: 0px 1px 2px rgba(60, 64, 67, 0.3), 0px 1px 3px 1px rgba(60, 64, 67, 0.15);\n",
              "      fill: #174EA6;\n",
              "    }\n",
              "\n",
              "    [theme=dark] .colab-df-convert {\n",
              "      background-color: #3B4455;\n",
              "      fill: #D2E3FC;\n",
              "    }\n",
              "\n",
              "    [theme=dark] .colab-df-convert:hover {\n",
              "      background-color: #434B5C;\n",
              "      box-shadow: 0px 1px 3px 1px rgba(0, 0, 0, 0.15);\n",
              "      filter: drop-shadow(0px 1px 2px rgba(0, 0, 0, 0.3));\n",
              "      fill: #FFFFFF;\n",
              "    }\n",
              "  </style>\n",
              "\n",
              "      <script>\n",
              "        const buttonEl =\n",
              "          document.querySelector('#df-3f1a08ae-0489-4c14-8118-ff9606f247fa button.colab-df-convert');\n",
              "        buttonEl.style.display =\n",
              "          google.colab.kernel.accessAllowed ? 'block' : 'none';\n",
              "\n",
              "        async function convertToInteractive(key) {\n",
              "          const element = document.querySelector('#df-3f1a08ae-0489-4c14-8118-ff9606f247fa');\n",
              "          const dataTable =\n",
              "            await google.colab.kernel.invokeFunction('convertToInteractive',\n",
              "                                                     [key], {});\n",
              "          if (!dataTable) return;\n",
              "\n",
              "          const docLinkHtml = 'Like what you see? Visit the ' +\n",
              "            '<a target=\"_blank\" href=https://colab.research.google.com/notebooks/data_table.ipynb>data table notebook</a>'\n",
              "            + ' to learn more about interactive tables.';\n",
              "          element.innerHTML = '';\n",
              "          dataTable['output_type'] = 'display_data';\n",
              "          await google.colab.output.renderOutput(dataTable, element);\n",
              "          const docLink = document.createElement('div');\n",
              "          docLink.innerHTML = docLinkHtml;\n",
              "          element.appendChild(docLink);\n",
              "        }\n",
              "      </script>\n",
              "    </div>\n",
              "  </div>\n",
              "  "
            ]
          },
          "metadata": {},
          "execution_count": 14
        }
      ]
    },
    {
      "cell_type": "code",
      "source": [
        "#looking at features\n",
        "df.drop('wage', axis=1, inplace=False).columns"
      ],
      "metadata": {
        "colab": {
          "base_uri": "https://localhost:8080/"
        },
        "id": "Ou9-UOC0LorH",
        "outputId": "aca6a033-ec4b-4b36-a944-2e4ce2b9b4e6"
      },
      "execution_count": null,
      "outputs": [
        {
          "output_type": "execute_result",
          "data": {
            "text/plain": [
              "Index(['educ', 'educ2', 'educ3', 'educ4', 'educ5', 'age', 'age2', 'age3',\n",
              "       'age4', 'age5'],\n",
              "      dtype='object')"
            ]
          },
          "metadata": {},
          "execution_count": 15
        }
      ]
    },
    {
      "cell_type": "markdown",
      "source": [
        "### Question 4.4"
      ],
      "metadata": {
        "id": "KQ8h0RifYLdx"
      }
    },
    {
      "cell_type": "code",
      "source": [
        "#estimating the coefficients from each model and stacking them all along \n",
        "#with feature names in a new data fram called coefficients\n",
        "\n",
        "coefficients = pd.DataFrame({'Features':df.drop('wage', axis=1, inplace=False).columns})\n",
        "coefficients['model_lin']= model_linear.coef_\n",
        "coefficients['model_ridge']= model_ridge.coef_\n",
        "coefficients['model_lasso']= model_lasso.coef_\n",
        "coefficients['model_net']= model_net.coef_\n",
        "coefficients"
      ],
      "metadata": {
        "colab": {
          "base_uri": "https://localhost:8080/"
        },
        "id": "RnWhQsRTLxdX",
        "outputId": "341df489-6feb-4119-f8bd-187b573f4d10"
      },
      "execution_count": null,
      "outputs": [
        {
          "output_type": "execute_result",
          "data": {
            "text/plain": [
              "  Features    model_lin  model_ridge  model_lasso  model_net\n",
              "0     educ  -109.991745  -109.991877     0.055649   0.055649\n",
              "1    educ2   462.562174   462.562716     0.556008   0.556008\n",
              "2    educ3  -736.380870  -736.381701     0.180667   0.180667\n",
              "3    educ4   527.476085   527.476652    -0.126316  -0.126316\n",
              "4    educ5  -143.414487  -143.414633    -0.365808  -0.365808\n",
              "5      age -1295.337038 -1295.075069    -0.069215  -0.069215\n",
              "6     age2  5164.461988  5163.395940     0.301351   0.301351\n",
              "7     age3 -7783.011658 -7781.378919     0.134377   0.134377\n",
              "8     age4  5255.053775  5253.938511    -0.024705  -0.024705\n",
              "9     age5 -1341.061042 -1340.774439    -0.173421  -0.173421"
            ],
            "text/html": [
              "\n",
              "  <div id=\"df-58c59278-1789-4c20-b92c-31a70ed1fcd3\">\n",
              "    <div class=\"colab-df-container\">\n",
              "      <div>\n",
              "<style scoped>\n",
              "    .dataframe tbody tr th:only-of-type {\n",
              "        vertical-align: middle;\n",
              "    }\n",
              "\n",
              "    .dataframe tbody tr th {\n",
              "        vertical-align: top;\n",
              "    }\n",
              "\n",
              "    .dataframe thead th {\n",
              "        text-align: right;\n",
              "    }\n",
              "</style>\n",
              "<table border=\"1\" class=\"dataframe\">\n",
              "  <thead>\n",
              "    <tr style=\"text-align: right;\">\n",
              "      <th></th>\n",
              "      <th>Features</th>\n",
              "      <th>model_lin</th>\n",
              "      <th>model_ridge</th>\n",
              "      <th>model_lasso</th>\n",
              "      <th>model_net</th>\n",
              "    </tr>\n",
              "  </thead>\n",
              "  <tbody>\n",
              "    <tr>\n",
              "      <th>0</th>\n",
              "      <td>educ</td>\n",
              "      <td>-109.991745</td>\n",
              "      <td>-109.991877</td>\n",
              "      <td>0.055649</td>\n",
              "      <td>0.055649</td>\n",
              "    </tr>\n",
              "    <tr>\n",
              "      <th>1</th>\n",
              "      <td>educ2</td>\n",
              "      <td>462.562174</td>\n",
              "      <td>462.562716</td>\n",
              "      <td>0.556008</td>\n",
              "      <td>0.556008</td>\n",
              "    </tr>\n",
              "    <tr>\n",
              "      <th>2</th>\n",
              "      <td>educ3</td>\n",
              "      <td>-736.380870</td>\n",
              "      <td>-736.381701</td>\n",
              "      <td>0.180667</td>\n",
              "      <td>0.180667</td>\n",
              "    </tr>\n",
              "    <tr>\n",
              "      <th>3</th>\n",
              "      <td>educ4</td>\n",
              "      <td>527.476085</td>\n",
              "      <td>527.476652</td>\n",
              "      <td>-0.126316</td>\n",
              "      <td>-0.126316</td>\n",
              "    </tr>\n",
              "    <tr>\n",
              "      <th>4</th>\n",
              "      <td>educ5</td>\n",
              "      <td>-143.414487</td>\n",
              "      <td>-143.414633</td>\n",
              "      <td>-0.365808</td>\n",
              "      <td>-0.365808</td>\n",
              "    </tr>\n",
              "    <tr>\n",
              "      <th>5</th>\n",
              "      <td>age</td>\n",
              "      <td>-1295.337038</td>\n",
              "      <td>-1295.075069</td>\n",
              "      <td>-0.069215</td>\n",
              "      <td>-0.069215</td>\n",
              "    </tr>\n",
              "    <tr>\n",
              "      <th>6</th>\n",
              "      <td>age2</td>\n",
              "      <td>5164.461988</td>\n",
              "      <td>5163.395940</td>\n",
              "      <td>0.301351</td>\n",
              "      <td>0.301351</td>\n",
              "    </tr>\n",
              "    <tr>\n",
              "      <th>7</th>\n",
              "      <td>age3</td>\n",
              "      <td>-7783.011658</td>\n",
              "      <td>-7781.378919</td>\n",
              "      <td>0.134377</td>\n",
              "      <td>0.134377</td>\n",
              "    </tr>\n",
              "    <tr>\n",
              "      <th>8</th>\n",
              "      <td>age4</td>\n",
              "      <td>5255.053775</td>\n",
              "      <td>5253.938511</td>\n",
              "      <td>-0.024705</td>\n",
              "      <td>-0.024705</td>\n",
              "    </tr>\n",
              "    <tr>\n",
              "      <th>9</th>\n",
              "      <td>age5</td>\n",
              "      <td>-1341.061042</td>\n",
              "      <td>-1340.774439</td>\n",
              "      <td>-0.173421</td>\n",
              "      <td>-0.173421</td>\n",
              "    </tr>\n",
              "  </tbody>\n",
              "</table>\n",
              "</div>\n",
              "      <button class=\"colab-df-convert\" onclick=\"convertToInteractive('df-58c59278-1789-4c20-b92c-31a70ed1fcd3')\"\n",
              "              title=\"Convert this dataframe to an interactive table.\"\n",
              "              style=\"display:none;\">\n",
              "        \n",
              "  <svg xmlns=\"http://www.w3.org/2000/svg\" height=\"24px\"viewBox=\"0 0 24 24\"\n",
              "       width=\"24px\">\n",
              "    <path d=\"M0 0h24v24H0V0z\" fill=\"none\"/>\n",
              "    <path d=\"M18.56 5.44l.94 2.06.94-2.06 2.06-.94-2.06-.94-.94-2.06-.94 2.06-2.06.94zm-11 1L8.5 8.5l.94-2.06 2.06-.94-2.06-.94L8.5 2.5l-.94 2.06-2.06.94zm10 10l.94 2.06.94-2.06 2.06-.94-2.06-.94-.94-2.06-.94 2.06-2.06.94z\"/><path d=\"M17.41 7.96l-1.37-1.37c-.4-.4-.92-.59-1.43-.59-.52 0-1.04.2-1.43.59L10.3 9.45l-7.72 7.72c-.78.78-.78 2.05 0 2.83L4 21.41c.39.39.9.59 1.41.59.51 0 1.02-.2 1.41-.59l7.78-7.78 2.81-2.81c.8-.78.8-2.07 0-2.86zM5.41 20L4 18.59l7.72-7.72 1.47 1.35L5.41 20z\"/>\n",
              "  </svg>\n",
              "      </button>\n",
              "      \n",
              "  <style>\n",
              "    .colab-df-container {\n",
              "      display:flex;\n",
              "      flex-wrap:wrap;\n",
              "      gap: 12px;\n",
              "    }\n",
              "\n",
              "    .colab-df-convert {\n",
              "      background-color: #E8F0FE;\n",
              "      border: none;\n",
              "      border-radius: 50%;\n",
              "      cursor: pointer;\n",
              "      display: none;\n",
              "      fill: #1967D2;\n",
              "      height: 32px;\n",
              "      padding: 0 0 0 0;\n",
              "      width: 32px;\n",
              "    }\n",
              "\n",
              "    .colab-df-convert:hover {\n",
              "      background-color: #E2EBFA;\n",
              "      box-shadow: 0px 1px 2px rgba(60, 64, 67, 0.3), 0px 1px 3px 1px rgba(60, 64, 67, 0.15);\n",
              "      fill: #174EA6;\n",
              "    }\n",
              "\n",
              "    [theme=dark] .colab-df-convert {\n",
              "      background-color: #3B4455;\n",
              "      fill: #D2E3FC;\n",
              "    }\n",
              "\n",
              "    [theme=dark] .colab-df-convert:hover {\n",
              "      background-color: #434B5C;\n",
              "      box-shadow: 0px 1px 3px 1px rgba(0, 0, 0, 0.15);\n",
              "      filter: drop-shadow(0px 1px 2px rgba(0, 0, 0, 0.3));\n",
              "      fill: #FFFFFF;\n",
              "    }\n",
              "  </style>\n",
              "\n",
              "      <script>\n",
              "        const buttonEl =\n",
              "          document.querySelector('#df-58c59278-1789-4c20-b92c-31a70ed1fcd3 button.colab-df-convert');\n",
              "        buttonEl.style.display =\n",
              "          google.colab.kernel.accessAllowed ? 'block' : 'none';\n",
              "\n",
              "        async function convertToInteractive(key) {\n",
              "          const element = document.querySelector('#df-58c59278-1789-4c20-b92c-31a70ed1fcd3');\n",
              "          const dataTable =\n",
              "            await google.colab.kernel.invokeFunction('convertToInteractive',\n",
              "                                                     [key], {});\n",
              "          if (!dataTable) return;\n",
              "\n",
              "          const docLinkHtml = 'Like what you see? Visit the ' +\n",
              "            '<a target=\"_blank\" href=https://colab.research.google.com/notebooks/data_table.ipynb>data table notebook</a>'\n",
              "            + ' to learn more about interactive tables.';\n",
              "          element.innerHTML = '';\n",
              "          dataTable['output_type'] = 'display_data';\n",
              "          await google.colab.output.renderOutput(dataTable, element);\n",
              "          const docLink = document.createElement('div');\n",
              "          docLink.innerHTML = docLinkHtml;\n",
              "          element.appendChild(docLink);\n",
              "        }\n",
              "      </script>\n",
              "    </div>\n",
              "  </div>\n",
              "  "
            ]
          },
          "metadata": {},
          "execution_count": 16
        }
      ]
    },
    {
      "cell_type": "markdown",
      "source": [
        "### Question 4.5"
      ],
      "metadata": {
        "id": "4Zf-njw-YXjQ"
      }
    },
    {
      "cell_type": "markdown",
      "source": [
        "\n",
        "\n",
        "> All the coefficients of Lasso and ElasticNet models are zero because the lasso constraint (L1 norm) shrinks the coefficients to zero. Lasso and ElasticNet (which uses a combination of ridge and lasso), perform feature selection, only selecting correlated predictors as large coefficients and the rest to zero or nearly zero. \n",
        "\n"
      ],
      "metadata": {
        "id": "ZUHbKfWyYaYY"
      }
    },
    {
      "cell_type": "markdown",
      "source": [
        "# **Question 5**"
      ],
      "metadata": {
        "id": "2j3hGo-VZVJG"
      }
    },
    {
      "cell_type": "code",
      "source": [
        "alpha_ridge = 10**np.linspace(-4,2,100) \n",
        "ridge = Ridge()\n",
        "coefs_ridge = []\n",
        "\n",
        "for i in alpha_ridge:\n",
        "    ridge.set_params(alpha = i)\n",
        "    ridge.fit(X_train, y_train)\n",
        "    coefs_ridge.append(ridge.coef_)"
      ],
      "metadata": {
        "id": "mukFDHXDXfiG"
      },
      "execution_count": null,
      "outputs": []
    },
    {
      "cell_type": "code",
      "source": [
        "alpha_lasso = 10**np.linspace(-4,2,100)\n",
        "lasso = Lasso()\n",
        "coefs_lasso = []\n",
        "\n",
        "for i in alpha_lasso:\n",
        "    lasso.set_params(alpha = i)\n",
        "    lasso.fit(X_train, y_train)\n",
        "    coefs_lasso.append(lasso.coef_)"
      ],
      "metadata": {
        "id": "GmMgZ77BXuFZ"
      },
      "execution_count": null,
      "outputs": []
    },
    {
      "cell_type": "code",
      "source": [
        "alpha_elasticnet = 10**np.linspace(-4,2,100)\n",
        "elasticnet = ElasticNet()\n",
        "coefs_elasticnet = []\n",
        "\n",
        "for i in alpha_elasticnet:\n",
        "    elasticnet.set_params(alpha = i)\n",
        "    elasticnet.fit(X_train, y_train)\n",
        "    coefs_elasticnet.append(elasticnet.coef_)"
      ],
      "metadata": {
        "id": "4k-Lxu7tX1Ki"
      },
      "execution_count": null,
      "outputs": []
    },
    {
      "cell_type": "code",
      "source": [
        "#using cross validation to find optimal hyper parameters (labeled as alphs)\n",
        "ridgecv = RidgeCV(alphas=alpha_ridge)\n",
        "ridgecv.fit(X_train, y_train)\n",
        "ridgecv.alpha_"
      ],
      "metadata": {
        "colab": {
          "base_uri": "https://localhost:8080/"
        },
        "id": "61fUD3E9Our0",
        "outputId": "6beb80f3-e9a2-44e9-9940-055f120b2a48"
      },
      "execution_count": null,
      "outputs": [
        {
          "output_type": "execute_result",
          "data": {
            "text/plain": [
              "0.004977023564332114"
            ]
          },
          "metadata": {},
          "execution_count": 20
        }
      ]
    },
    {
      "cell_type": "code",
      "source": [
        "#optimal alpha output is 0.004977\n",
        "alpha_ridge_opt = ridgecv.alpha_\n",
        "alpha_ridge_opt"
      ],
      "metadata": {
        "colab": {
          "base_uri": "https://localhost:8080/"
        },
        "id": "6jGjUM5fOy66",
        "outputId": "304c6d15-4cb3-4319-daa1-889b8300a9ee"
      },
      "execution_count": null,
      "outputs": [
        {
          "output_type": "execute_result",
          "data": {
            "text/plain": [
              "0.004977023564332114"
            ]
          },
          "metadata": {},
          "execution_count": 21
        }
      ]
    },
    {
      "cell_type": "code",
      "source": [
        "#creating optimal lasso parameter\n",
        "lassocv = LassoCV()\n",
        "lassocv.fit(X_train, y_train)\n",
        "lassocv.alpha_"
      ],
      "metadata": {
        "colab": {
          "base_uri": "https://localhost:8080/"
        },
        "id": "DkmkaZD8PjMJ",
        "outputId": "55574ef0-3938-401b-fbfe-e57af3802482"
      },
      "execution_count": null,
      "outputs": [
        {
          "output_type": "execute_result",
          "data": {
            "text/plain": [
              "0.010732138475800224"
            ]
          },
          "metadata": {},
          "execution_count": 22
        }
      ]
    },
    {
      "cell_type": "code",
      "source": [
        "#optimal lasso parameter is 0.010732\n",
        "alpha_lasso_opt = lassocv.alpha_\n",
        "alpha_lasso_opt"
      ],
      "metadata": {
        "colab": {
          "base_uri": "https://localhost:8080/"
        },
        "id": "CyDT4ZgsPs51",
        "outputId": "fc8739b8-45cf-4e68-f685-40dd5fd3542e"
      },
      "execution_count": null,
      "outputs": [
        {
          "output_type": "execute_result",
          "data": {
            "text/plain": [
              "0.010732138475800224"
            ]
          },
          "metadata": {},
          "execution_count": 23
        }
      ]
    },
    {
      "cell_type": "code",
      "source": [
        "#creating optimal value for elastic net parameter\n",
        "elasticnetcv = ElasticNetCV()\n",
        "elasticnetcv.fit(X_train, y_train)\n",
        "elasticnetcv.alpha_"
      ],
      "metadata": {
        "colab": {
          "base_uri": "https://localhost:8080/"
        },
        "id": "MDG5h66nPvP_",
        "outputId": "c9ec34dc-875e-41ca-928c-fb8bdf0e156d"
      },
      "execution_count": null,
      "outputs": [
        {
          "output_type": "execute_result",
          "data": {
            "text/plain": [
              "0.010682821217946607"
            ]
          },
          "metadata": {},
          "execution_count": 24
        }
      ]
    },
    {
      "cell_type": "code",
      "source": [
        "#half of elastic net is ridge and the other half is lasso \n",
        "#combination of lasso and ridge (L1 and L2 norm)\n",
        "elasticnetcv.l1_ratio_"
      ],
      "metadata": {
        "colab": {
          "base_uri": "https://localhost:8080/"
        },
        "id": "Y7CwuTI4Pwzx",
        "outputId": "9eb1e3e6-6f35-45e2-caac-f242d8020806"
      },
      "execution_count": null,
      "outputs": [
        {
          "output_type": "execute_result",
          "data": {
            "text/plain": [
              "0.5"
            ]
          },
          "metadata": {},
          "execution_count": 25
        }
      ]
    },
    {
      "cell_type": "code",
      "source": [
        "#optimal elasticnet parameter is 0.01068\n",
        "alpha_elasticnet_opt = elasticnetcv.alpha_\n",
        "alpha_elasticnet_opt"
      ],
      "metadata": {
        "colab": {
          "base_uri": "https://localhost:8080/"
        },
        "id": "_5phXDUHPytE",
        "outputId": "052a077e-6c95-4f7e-e9f9-c3442612a44b"
      },
      "execution_count": null,
      "outputs": [
        {
          "output_type": "execute_result",
          "data": {
            "text/plain": [
              "0.010682821217946607"
            ]
          },
          "metadata": {},
          "execution_count": 26
        }
      ]
    },
    {
      "cell_type": "code",
      "source": [
        "from sklearn.linear_model import LinearRegression, Ridge,RidgeCV, Lasso, LassoCV, ElasticNet, ElasticNetCV"
      ],
      "metadata": {
        "id": "I4w0MNwyPP4v"
      },
      "execution_count": null,
      "outputs": []
    },
    {
      "cell_type": "markdown",
      "source": [
        "# **Question 6**"
      ],
      "metadata": {
        "id": "gpkjzIbZaEq2"
      }
    },
    {
      "cell_type": "code",
      "source": [
        "# starting with parameters using optimal alphas:\n",
        "model_linear_alpha = LinearRegression()\n",
        "model_ridge_alpha = Ridge(alpha_ridge_opt)\n",
        "model_lasso_alpha = Lasso(alpha_lasso_opt)\n",
        "model_net_alpha = ElasticNet(alpha_elasticnet_opt)"
      ],
      "metadata": {
        "id": "5GTabUQbPP4v"
      },
      "execution_count": null,
      "outputs": []
    },
    {
      "cell_type": "code",
      "source": [
        "#saving predicted values for the alpha optimal parameters\n",
        "y_hat_linear_alpha = model_linear_alpha.fit(X_train, y_train).predict(X_test)\n",
        "y_hat_ridge_alpha = model_ridge_alpha.fit(X_train, y_train).predict(X_test)\n",
        "y_hat_lasso_alpha = model_lasso_alpha.fit(X_train, y_train).predict(X_test)\n",
        "y_hat_net_alpha   = model_net_alpha.fit(X_train, y_train).predict(X_test)"
      ],
      "metadata": {
        "id": "VAm6aXkzPP4v"
      },
      "execution_count": null,
      "outputs": []
    },
    {
      "cell_type": "code",
      "source": [
        "#defining new predicted output for alpha set as df_predictions_optimal\n",
        "df_predictions_optimal = pd.DataFrame({'y_test_alpha':y_test,\n",
        "                               'y_hat_linear_alpha':y_hat_linear,\n",
        "                               'y_hat_ridge_alpha':y_hat_ridge,\n",
        "                               'y_hat_lasso_alpha':y_hat_lasso,\n",
        "                               'y_hat_net_alpha':y_hat_net})\n",
        "\n",
        "#output first five rows of data to look at columns\n",
        "#data shows predicted values for models using optimal alphas\n",
        "df_predictions_optimal.head()"
      ],
      "metadata": {
        "colab": {
          "base_uri": "https://localhost:8080/",
          "height": 206
        },
        "outputId": "444aab31-b99a-438a-9cd0-618be649165e",
        "id": "ALx6kLYKPP4v"
      },
      "execution_count": null,
      "outputs": [
        {
          "output_type": "execute_result",
          "data": {
            "text/plain": [
              "     y_test_alpha  y_hat_linear_alpha  y_hat_ridge_alpha  y_hat_lasso_alpha  \\\n",
              "434      0.042199           -0.267170          -0.267169          -0.201887   \n",
              "238      1.910343            0.699718           0.699715           0.690517   \n",
              "531     -0.700110           -0.065042          -0.065041           0.040769   \n",
              "157      2.328510            0.689508           0.689508           0.642706   \n",
              "601      1.341239            0.208652           0.208655           0.169808   \n",
              "\n",
              "     y_hat_net_alpha  \n",
              "434        -0.201887  \n",
              "238         0.690517  \n",
              "531         0.040769  \n",
              "157         0.642706  \n",
              "601         0.169808  "
            ],
            "text/html": [
              "\n",
              "  <div id=\"df-31752fcf-6b9c-4412-bee9-751c26ca13a9\">\n",
              "    <div class=\"colab-df-container\">\n",
              "      <div>\n",
              "<style scoped>\n",
              "    .dataframe tbody tr th:only-of-type {\n",
              "        vertical-align: middle;\n",
              "    }\n",
              "\n",
              "    .dataframe tbody tr th {\n",
              "        vertical-align: top;\n",
              "    }\n",
              "\n",
              "    .dataframe thead th {\n",
              "        text-align: right;\n",
              "    }\n",
              "</style>\n",
              "<table border=\"1\" class=\"dataframe\">\n",
              "  <thead>\n",
              "    <tr style=\"text-align: right;\">\n",
              "      <th></th>\n",
              "      <th>y_test_alpha</th>\n",
              "      <th>y_hat_linear_alpha</th>\n",
              "      <th>y_hat_ridge_alpha</th>\n",
              "      <th>y_hat_lasso_alpha</th>\n",
              "      <th>y_hat_net_alpha</th>\n",
              "    </tr>\n",
              "  </thead>\n",
              "  <tbody>\n",
              "    <tr>\n",
              "      <th>434</th>\n",
              "      <td>0.042199</td>\n",
              "      <td>-0.267170</td>\n",
              "      <td>-0.267169</td>\n",
              "      <td>-0.201887</td>\n",
              "      <td>-0.201887</td>\n",
              "    </tr>\n",
              "    <tr>\n",
              "      <th>238</th>\n",
              "      <td>1.910343</td>\n",
              "      <td>0.699718</td>\n",
              "      <td>0.699715</td>\n",
              "      <td>0.690517</td>\n",
              "      <td>0.690517</td>\n",
              "    </tr>\n",
              "    <tr>\n",
              "      <th>531</th>\n",
              "      <td>-0.700110</td>\n",
              "      <td>-0.065042</td>\n",
              "      <td>-0.065041</td>\n",
              "      <td>0.040769</td>\n",
              "      <td>0.040769</td>\n",
              "    </tr>\n",
              "    <tr>\n",
              "      <th>157</th>\n",
              "      <td>2.328510</td>\n",
              "      <td>0.689508</td>\n",
              "      <td>0.689508</td>\n",
              "      <td>0.642706</td>\n",
              "      <td>0.642706</td>\n",
              "    </tr>\n",
              "    <tr>\n",
              "      <th>601</th>\n",
              "      <td>1.341239</td>\n",
              "      <td>0.208652</td>\n",
              "      <td>0.208655</td>\n",
              "      <td>0.169808</td>\n",
              "      <td>0.169808</td>\n",
              "    </tr>\n",
              "  </tbody>\n",
              "</table>\n",
              "</div>\n",
              "      <button class=\"colab-df-convert\" onclick=\"convertToInteractive('df-31752fcf-6b9c-4412-bee9-751c26ca13a9')\"\n",
              "              title=\"Convert this dataframe to an interactive table.\"\n",
              "              style=\"display:none;\">\n",
              "        \n",
              "  <svg xmlns=\"http://www.w3.org/2000/svg\" height=\"24px\"viewBox=\"0 0 24 24\"\n",
              "       width=\"24px\">\n",
              "    <path d=\"M0 0h24v24H0V0z\" fill=\"none\"/>\n",
              "    <path d=\"M18.56 5.44l.94 2.06.94-2.06 2.06-.94-2.06-.94-.94-2.06-.94 2.06-2.06.94zm-11 1L8.5 8.5l.94-2.06 2.06-.94-2.06-.94L8.5 2.5l-.94 2.06-2.06.94zm10 10l.94 2.06.94-2.06 2.06-.94-2.06-.94-.94-2.06-.94 2.06-2.06.94z\"/><path d=\"M17.41 7.96l-1.37-1.37c-.4-.4-.92-.59-1.43-.59-.52 0-1.04.2-1.43.59L10.3 9.45l-7.72 7.72c-.78.78-.78 2.05 0 2.83L4 21.41c.39.39.9.59 1.41.59.51 0 1.02-.2 1.41-.59l7.78-7.78 2.81-2.81c.8-.78.8-2.07 0-2.86zM5.41 20L4 18.59l7.72-7.72 1.47 1.35L5.41 20z\"/>\n",
              "  </svg>\n",
              "      </button>\n",
              "      \n",
              "  <style>\n",
              "    .colab-df-container {\n",
              "      display:flex;\n",
              "      flex-wrap:wrap;\n",
              "      gap: 12px;\n",
              "    }\n",
              "\n",
              "    .colab-df-convert {\n",
              "      background-color: #E8F0FE;\n",
              "      border: none;\n",
              "      border-radius: 50%;\n",
              "      cursor: pointer;\n",
              "      display: none;\n",
              "      fill: #1967D2;\n",
              "      height: 32px;\n",
              "      padding: 0 0 0 0;\n",
              "      width: 32px;\n",
              "    }\n",
              "\n",
              "    .colab-df-convert:hover {\n",
              "      background-color: #E2EBFA;\n",
              "      box-shadow: 0px 1px 2px rgba(60, 64, 67, 0.3), 0px 1px 3px 1px rgba(60, 64, 67, 0.15);\n",
              "      fill: #174EA6;\n",
              "    }\n",
              "\n",
              "    [theme=dark] .colab-df-convert {\n",
              "      background-color: #3B4455;\n",
              "      fill: #D2E3FC;\n",
              "    }\n",
              "\n",
              "    [theme=dark] .colab-df-convert:hover {\n",
              "      background-color: #434B5C;\n",
              "      box-shadow: 0px 1px 3px 1px rgba(0, 0, 0, 0.15);\n",
              "      filter: drop-shadow(0px 1px 2px rgba(0, 0, 0, 0.3));\n",
              "      fill: #FFFFFF;\n",
              "    }\n",
              "  </style>\n",
              "\n",
              "      <script>\n",
              "        const buttonEl =\n",
              "          document.querySelector('#df-31752fcf-6b9c-4412-bee9-751c26ca13a9 button.colab-df-convert');\n",
              "        buttonEl.style.display =\n",
              "          google.colab.kernel.accessAllowed ? 'block' : 'none';\n",
              "\n",
              "        async function convertToInteractive(key) {\n",
              "          const element = document.querySelector('#df-31752fcf-6b9c-4412-bee9-751c26ca13a9');\n",
              "          const dataTable =\n",
              "            await google.colab.kernel.invokeFunction('convertToInteractive',\n",
              "                                                     [key], {});\n",
              "          if (!dataTable) return;\n",
              "\n",
              "          const docLinkHtml = 'Like what you see? Visit the ' +\n",
              "            '<a target=\"_blank\" href=https://colab.research.google.com/notebooks/data_table.ipynb>data table notebook</a>'\n",
              "            + ' to learn more about interactive tables.';\n",
              "          element.innerHTML = '';\n",
              "          dataTable['output_type'] = 'display_data';\n",
              "          await google.colab.output.renderOutput(dataTable, element);\n",
              "          const docLink = document.createElement('div');\n",
              "          docLink.innerHTML = docLinkHtml;\n",
              "          element.appendChild(docLink);\n",
              "        }\n",
              "      </script>\n",
              "    </div>\n",
              "  </div>\n",
              "  "
            ]
          },
          "metadata": {},
          "execution_count": 30
        }
      ]
    },
    {
      "cell_type": "markdown",
      "source": [
        "# **Question 7**"
      ],
      "metadata": {
        "id": "T_4Z3POwanoI"
      }
    },
    {
      "cell_type": "code",
      "source": [
        "#RMSE test for the linear regression is .0865\n",
        "\n",
        "MSE_test_lin_alpha = np.mean(np.square(df_predictions_optimal['y_test_alpha'] - df_predictions_optimal['y_hat_linear_alpha']))\n",
        "RMSE_test_lin_alpha = np.sqrt(MSE_test_lin_alpha)\n",
        "np.round(RMSE_test_lin_alpha,3)"
      ],
      "metadata": {
        "colab": {
          "base_uri": "https://localhost:8080/"
        },
        "id": "Mi00NscqRe8b",
        "outputId": "a3ccc7ef-b075-4e73-86b6-cd7252d3deda"
      },
      "execution_count": null,
      "outputs": [
        {
          "output_type": "execute_result",
          "data": {
            "text/plain": [
              "0.865"
            ]
          },
          "metadata": {},
          "execution_count": 31
        }
      ]
    },
    {
      "cell_type": "code",
      "source": [
        "#RMSE test for ridge model is 0.865\n",
        "\n",
        "MSE_test_ridge_alpha = np.mean(np.square(df_predictions_optimal['y_test_alpha'] - df_predictions_optimal['y_hat_ridge_alpha']))\n",
        "RMSE_test_ridge_alpha = np.sqrt(MSE_test_ridge_alpha)\n",
        "np.round(RMSE_test_ridge_alpha,3)"
      ],
      "metadata": {
        "colab": {
          "base_uri": "https://localhost:8080/"
        },
        "id": "YBUnkEsQR22l",
        "outputId": "690260b1-6293-48bb-be71-be1db7708b2e"
      },
      "execution_count": null,
      "outputs": [
        {
          "output_type": "execute_result",
          "data": {
            "text/plain": [
              "0.865"
            ]
          },
          "metadata": {},
          "execution_count": 32
        }
      ]
    },
    {
      "cell_type": "code",
      "source": [
        "#RMSE test for lasso model is 0.867\n",
        "\n",
        "MSE_test_lasso_alpha = np.mean(np.square(df_predictions_optimal['y_test_alpha'] - df_predictions_optimal['y_hat_lasso_alpha']))\n",
        "RMSE_test_lasso_alpha = np.sqrt(MSE_test_lasso_alpha)\n",
        "np.round(RMSE_test_lasso_alpha,3)"
      ],
      "metadata": {
        "colab": {
          "base_uri": "https://localhost:8080/"
        },
        "id": "nD0tsuAKbBzU",
        "outputId": "23877c3b-b240-4605-8835-b42056d99f18"
      },
      "execution_count": null,
      "outputs": [
        {
          "output_type": "execute_result",
          "data": {
            "text/plain": [
              "0.867"
            ]
          },
          "metadata": {},
          "execution_count": 33
        }
      ]
    },
    {
      "cell_type": "code",
      "source": [
        "#RMSE test for elasticnet model is 0.867\n",
        "\n",
        "MSE_test_net_alpha = np.mean(np.square(df_predictions_optimal['y_test_alpha'] - df_predictions_optimal['y_hat_net_alpha']))\n",
        "RMSE_test_net_alpha = np.sqrt(MSE_test_net_alpha)\n",
        "np.round(RMSE_test_net_alpha,3)"
      ],
      "metadata": {
        "colab": {
          "base_uri": "https://localhost:8080/"
        },
        "id": "4hEPWmuYSJxN",
        "outputId": "8f974c5d-680a-4eca-bbca-56d60062fc8a"
      },
      "execution_count": null,
      "outputs": [
        {
          "output_type": "execute_result",
          "data": {
            "text/plain": [
              "0.867"
            ]
          },
          "metadata": {},
          "execution_count": 34
        }
      ]
    },
    {
      "cell_type": "markdown",
      "source": [
        "\n",
        "\n",
        "> No, the models were not able to beat the linear regression RMSE. The ridge model had the same RMSE as the linear model of 0.865 and the lasso and elasticnet model both had an RMSE of 0.867. The reason the models could not be outperforming the linear model is that we are using one train/test split. If we use a k-fold technique and average the RMSE, we could see a different output. This could also be that the linear model is somewhat overfit which leads to smaller errors. Because of the bias variance tradeoff, the ridge, lasso, and elastic net models will have a little more bias to reduce the variance. \n",
        "\n",
        "\n"
      ],
      "metadata": {
        "id": "HjCBu8KdbXhI"
      }
    },
    {
      "cell_type": "markdown",
      "source": [
        "# **Question 8**"
      ],
      "metadata": {
        "id": "YfejWucedQxB"
      }
    },
    {
      "cell_type": "code",
      "source": [
        "plt.figure(figsize=(12,10))\n",
        "ax = plt.gca()\n",
        "ax.plot(alpha_ridge, coefs_ridge)\n",
        "ax.set_xscale('log')\n",
        "plt.axis('tight')\n",
        "plt.xlabel('alpha')\n",
        "plt.ylabel('weights: scaled coefficients')\n",
        "plt.title('Ridge regression coefficients Vs. alpha')\n",
        "plt.legend(df.drop('wage',axis=1, inplace=False).columns)\n",
        "\n",
        "plt.show()"
      ],
      "metadata": {
        "colab": {
          "base_uri": "https://localhost:8080/",
          "height": 634
        },
        "outputId": "5f120468-ca99-4c0b-df0c-af5efb86ed85",
        "id": "2RTPwPBdS3Ha"
      },
      "execution_count": null,
      "outputs": [
        {
          "output_type": "display_data",
          "data": {
            "text/plain": [
              "<Figure size 864x720 with 1 Axes>"
            ],
            "image/png": "[encoded data removed]"
          },
          "metadata": {}
        }
      ]
    },
    {
      "cell_type": "markdown",
      "source": [
        "\n",
        "\n",
        "**> Interpretation** \n",
        "\n",
        "\n",
        "> Looking at the graph above we can see the shrinkage penalty shrinking the estimates towards zero. As alpha increases,the coefficient for educ2 dives signifantly towards zero suggesting the feature is more insignifacant than the other features. Similar conclusions can be drawn for age2 looking at the output. As alpha approaches infinity, the coefficients are drawn closer to zero.\n",
        "\n",
        "\n",
        "\n"
      ],
      "metadata": {
        "id": "ramCfb-udiSr"
      }
    },
    {
      "cell_type": "code",
      "source": [
        "plt.figure(figsize=(12,10))\n",
        "ax = plt.gca()\n",
        "ax.plot(alpha_lasso, coefs_lasso)\n",
        "ax.set_xscale('log')\n",
        "plt.axis('tight')\n",
        "plt.xlabel('alpha')\n",
        "plt.ylabel('weights: scaled coefficients')\n",
        "plt.title('Lasso regression coefficients Vs. alpha')\n",
        "plt.legend(df.drop('wage',axis=1, inplace=False).columns)\n",
        "\n",
        "plt.show()"
      ],
      "metadata": {
        "colab": {
          "base_uri": "https://localhost:8080/",
          "height": 634
        },
        "outputId": "b8a6ed54-8df0-4339-d98c-42ff2a6f6919",
        "id": "lQwRojvLS3Hb"
      },
      "execution_count": null,
      "outputs": [
        {
          "output_type": "display_data",
          "data": {
            "text/plain": [
              "<Figure size 864x720 with 1 Axes>"
            ],
            "image/png": "[encoded data removed]"
          },
          "metadata": {}
        }
      ]
    },
    {
      "cell_type": "markdown",
      "source": [
        "**> Interpretation** \n",
        "\n",
        "\n",
        "> Looking at the graph above, we can see that the Lasso penalty is setting coefficients to zero as alpha increases and clearly utilizing feature selection. When alpha is at 0.1, age and educ are the only two surviving features. The other features are eliminated (set to zero), as the model interprets these features as the least important variables from the model. \n",
        "\n"
      ],
      "metadata": {
        "id": "-LvfYqz7dqPf"
      }
    },
    {
      "cell_type": "code",
      "source": [
        "plt.figure(figsize=(12,10))\n",
        "ax = plt.gca()\n",
        "ax.plot(alpha_elasticnet, coefs_elasticnet)\n",
        "ax.set_xscale('log')\n",
        "plt.axis('tight')\n",
        "plt.xlabel('alpha')\n",
        "plt.ylabel('weights: scaled coefficients')\n",
        "plt.title('Elastic Net regression coefficients Vs. alpha')\n",
        "plt.legend(df.drop('wage',axis=1, inplace=False).columns)\n",
        "\n",
        "plt.show()"
      ],
      "metadata": {
        "colab": {
          "base_uri": "https://localhost:8080/",
          "height": 634
        },
        "outputId": "eeedd094-fad4-4fd7-f17a-95e52ef95d07",
        "id": "Vxkx3r4SS3Hb"
      },
      "execution_count": null,
      "outputs": [
        {
          "output_type": "display_data",
          "data": {
            "text/plain": [
              "<Figure size 864x720 with 1 Axes>"
            ],
            "image/png": "[encoded data removed]"
          },
          "metadata": {}
        }
      ]
    },
    {
      "cell_type": "markdown",
      "source": [
        "**> Interpretation** \n",
        "\n",
        "\n",
        "> Looking at the graph above we can see that some features are set to zero and the magnitude of the other features are reduced. The optimal alpha for elastic net was calculated at 0.01, which shows that educ2 is not signifant at this alpha level. Looking at the graph, when alpha=0.01, the coefficients that are most significant are educ, age, age2, age3, and educ5\n",
        "\n"
      ],
      "metadata": {
        "id": "fbFd7d44drw1"
      }
    },
    {
      "cell_type": "markdown",
      "source": [
        "# **Question 9**"
      ],
      "metadata": {
        "id": "LcX1F7lLdsgr"
      }
    },
    {
      "cell_type": "code",
      "source": [
        "coefficients_alpha = pd.DataFrame({'Features':df.drop('wage', axis=1, inplace=False).columns})\n",
        "coefficients_alpha['model_lin_alpha']= model_linear_alpha.coef_\n",
        "coefficients_alpha['model_ridge_alpha']= model_ridge_alpha.coef_\n",
        "coefficients_alpha['model_lasso_alpha']= model_lasso_alpha.coef_\n",
        "coefficients_alpha['model_net_alpha']= model_net_alpha.coef_\n",
        "coefficients_alpha"
      ],
      "metadata": {
        "colab": {
          "base_uri": "https://localhost:8080/",
          "height": 363
        },
        "id": "czWmcyt2UuNI",
        "outputId": "34dc9063-f0cb-45d6-a7bc-73b077c4ad29"
      },
      "execution_count": null,
      "outputs": [
        {
          "output_type": "execute_result",
          "data": {
            "text/plain": [
              "  Features  model_lin_alpha  model_ridge_alpha  model_lasso_alpha  \\\n",
              "0     educ      -109.991745          -0.910987           0.304250   \n",
              "1    educ2       462.562174           1.455929           0.000000   \n",
              "2    educ3      -736.380870           0.908692           0.000000   \n",
              "3    educ4       527.476085          -0.296863           0.000000   \n",
              "4    educ5      -143.414487          -0.866506          -0.000000   \n",
              "5      age     -1295.337038          -7.010431           0.145802   \n",
              "6     age2      5164.461988           3.903669           0.000071   \n",
              "7     age3     -7783.011658           7.161033           0.000000   \n",
              "8     age4      5255.053775           3.261689           0.000000   \n",
              "9     age5     -1341.061042          -7.185003           0.000000   \n",
              "\n",
              "   model_net_alpha  \n",
              "0         0.331947  \n",
              "1         0.000000  \n",
              "2         0.000000  \n",
              "3        -0.000000  \n",
              "4        -0.024823  \n",
              "5         0.079775  \n",
              "6         0.063142  \n",
              "7         0.009603  \n",
              "8         0.000000  \n",
              "9         0.000000  "
            ],
            "text/html": [
              "\n",
              "  <div id=\"df-3a5e169c-13a0-42a5-9574-6c37b2515f97\">\n",
              "    <div class=\"colab-df-container\">\n",
              "      <div>\n",
              "<style scoped>\n",
              "    .dataframe tbody tr th:only-of-type {\n",
              "        vertical-align: middle;\n",
              "    }\n",
              "\n",
              "    .dataframe tbody tr th {\n",
              "        vertical-align: top;\n",
              "    }\n",
              "\n",
              "    .dataframe thead th {\n",
              "        text-align: right;\n",
              "    }\n",
              "</style>\n",
              "<table border=\"1\" class=\"dataframe\">\n",
              "  <thead>\n",
              "    <tr style=\"text-align: right;\">\n",
              "      <th></th>\n",
              "      <th>Features</th>\n",
              "      <th>model_lin_alpha</th>\n",
              "      <th>model_ridge_alpha</th>\n",
              "      <th>model_lasso_alpha</th>\n",
              "      <th>model_net_alpha</th>\n",
              "    </tr>\n",
              "  </thead>\n",
              "  <tbody>\n",
              "    <tr>\n",
              "      <th>0</th>\n",
              "      <td>educ</td>\n",
              "      <td>-109.991745</td>\n",
              "      <td>-0.910987</td>\n",
              "      <td>0.304250</td>\n",
              "      <td>0.331947</td>\n",
              "    </tr>\n",
              "    <tr>\n",
              "      <th>1</th>\n",
              "      <td>educ2</td>\n",
              "      <td>462.562174</td>\n",
              "      <td>1.455929</td>\n",
              "      <td>0.000000</td>\n",
              "      <td>0.000000</td>\n",
              "    </tr>\n",
              "    <tr>\n",
              "      <th>2</th>\n",
              "      <td>educ3</td>\n",
              "      <td>-736.380870</td>\n",
              "      <td>0.908692</td>\n",
              "      <td>0.000000</td>\n",
              "      <td>0.000000</td>\n",
              "    </tr>\n",
              "    <tr>\n",
              "      <th>3</th>\n",
              "      <td>educ4</td>\n",
              "      <td>527.476085</td>\n",
              "      <td>-0.296863</td>\n",
              "      <td>0.000000</td>\n",
              "      <td>-0.000000</td>\n",
              "    </tr>\n",
              "    <tr>\n",
              "      <th>4</th>\n",
              "      <td>educ5</td>\n",
              "      <td>-143.414487</td>\n",
              "      <td>-0.866506</td>\n",
              "      <td>-0.000000</td>\n",
              "      <td>-0.024823</td>\n",
              "    </tr>\n",
              "    <tr>\n",
              "      <th>5</th>\n",
              "      <td>age</td>\n",
              "      <td>-1295.337038</td>\n",
              "      <td>-7.010431</td>\n",
              "      <td>0.145802</td>\n",
              "      <td>0.079775</td>\n",
              "    </tr>\n",
              "    <tr>\n",
              "      <th>6</th>\n",
              "      <td>age2</td>\n",
              "      <td>5164.461988</td>\n",
              "      <td>3.903669</td>\n",
              "      <td>0.000071</td>\n",
              "      <td>0.063142</td>\n",
              "    </tr>\n",
              "    <tr>\n",
              "      <th>7</th>\n",
              "      <td>age3</td>\n",
              "      <td>-7783.011658</td>\n",
              "      <td>7.161033</td>\n",
              "      <td>0.000000</td>\n",
              "      <td>0.009603</td>\n",
              "    </tr>\n",
              "    <tr>\n",
              "      <th>8</th>\n",
              "      <td>age4</td>\n",
              "      <td>5255.053775</td>\n",
              "      <td>3.261689</td>\n",
              "      <td>0.000000</td>\n",
              "      <td>0.000000</td>\n",
              "    </tr>\n",
              "    <tr>\n",
              "      <th>9</th>\n",
              "      <td>age5</td>\n",
              "      <td>-1341.061042</td>\n",
              "      <td>-7.185003</td>\n",
              "      <td>0.000000</td>\n",
              "      <td>0.000000</td>\n",
              "    </tr>\n",
              "  </tbody>\n",
              "</table>\n",
              "</div>\n",
              "      <button class=\"colab-df-convert\" onclick=\"convertToInteractive('df-3a5e169c-13a0-42a5-9574-6c37b2515f97')\"\n",
              "              title=\"Convert this dataframe to an interactive table.\"\n",
              "              style=\"display:none;\">\n",
              "        \n",
              "  <svg xmlns=\"http://www.w3.org/2000/svg\" height=\"24px\"viewBox=\"0 0 24 24\"\n",
              "       width=\"24px\">\n",
              "    <path d=\"M0 0h24v24H0V0z\" fill=\"none\"/>\n",
              "    <path d=\"M18.56 5.44l.94 2.06.94-2.06 2.06-.94-2.06-.94-.94-2.06-.94 2.06-2.06.94zm-11 1L8.5 8.5l.94-2.06 2.06-.94-2.06-.94L8.5 2.5l-.94 2.06-2.06.94zm10 10l.94 2.06.94-2.06 2.06-.94-2.06-.94-.94-2.06-.94 2.06-2.06.94z\"/><path d=\"M17.41 7.96l-1.37-1.37c-.4-.4-.92-.59-1.43-.59-.52 0-1.04.2-1.43.59L10.3 9.45l-7.72 7.72c-.78.78-.78 2.05 0 2.83L4 21.41c.39.39.9.59 1.41.59.51 0 1.02-.2 1.41-.59l7.78-7.78 2.81-2.81c.8-.78.8-2.07 0-2.86zM5.41 20L4 18.59l7.72-7.72 1.47 1.35L5.41 20z\"/>\n",
              "  </svg>\n",
              "      </button>\n",
              "      \n",
              "  <style>\n",
              "    .colab-df-container {\n",
              "      display:flex;\n",
              "      flex-wrap:wrap;\n",
              "      gap: 12px;\n",
              "    }\n",
              "\n",
              "    .colab-df-convert {\n",
              "      background-color: #E8F0FE;\n",
              "      border: none;\n",
              "      border-radius: 50%;\n",
              "      cursor: pointer;\n",
              "      display: none;\n",
              "      fill: #1967D2;\n",
              "      height: 32px;\n",
              "      padding: 0 0 0 0;\n",
              "      width: 32px;\n",
              "    }\n",
              "\n",
              "    .colab-df-convert:hover {\n",
              "      background-color: #E2EBFA;\n",
              "      box-shadow: 0px 1px 2px rgba(60, 64, 67, 0.3), 0px 1px 3px 1px rgba(60, 64, 67, 0.15);\n",
              "      fill: #174EA6;\n",
              "    }\n",
              "\n",
              "    [theme=dark] .colab-df-convert {\n",
              "      background-color: #3B4455;\n",
              "      fill: #D2E3FC;\n",
              "    }\n",
              "\n",
              "    [theme=dark] .colab-df-convert:hover {\n",
              "      background-color: #434B5C;\n",
              "      box-shadow: 0px 1px 3px 1px rgba(0, 0, 0, 0.15);\n",
              "      filter: drop-shadow(0px 1px 2px rgba(0, 0, 0, 0.3));\n",
              "      fill: #FFFFFF;\n",
              "    }\n",
              "  </style>\n",
              "\n",
              "      <script>\n",
              "        const buttonEl =\n",
              "          document.querySelector('#df-3a5e169c-13a0-42a5-9574-6c37b2515f97 button.colab-df-convert');\n",
              "        buttonEl.style.display =\n",
              "          google.colab.kernel.accessAllowed ? 'block' : 'none';\n",
              "\n",
              "        async function convertToInteractive(key) {\n",
              "          const element = document.querySelector('#df-3a5e169c-13a0-42a5-9574-6c37b2515f97');\n",
              "          const dataTable =\n",
              "            await google.colab.kernel.invokeFunction('convertToInteractive',\n",
              "                                                     [key], {});\n",
              "          if (!dataTable) return;\n",
              "\n",
              "          const docLinkHtml = 'Like what you see? Visit the ' +\n",
              "            '<a target=\"_blank\" href=https://colab.research.google.com/notebooks/data_table.ipynb>data table notebook</a>'\n",
              "            + ' to learn more about interactive tables.';\n",
              "          element.innerHTML = '';\n",
              "          dataTable['output_type'] = 'display_data';\n",
              "          await google.colab.output.renderOutput(dataTable, element);\n",
              "          const docLink = document.createElement('div');\n",
              "          docLink.innerHTML = docLinkHtml;\n",
              "          element.appendChild(docLink);\n",
              "        }\n",
              "      </script>\n",
              "    </div>\n",
              "  </div>\n",
              "  "
            ]
          },
          "metadata": {},
          "execution_count": 38
        }
      ]
    },
    {
      "cell_type": "markdown",
      "source": [
        "### 9.1"
      ],
      "metadata": {
        "id": "stXGdUaFeB7n"
      }
    },
    {
      "cell_type": "markdown",
      "source": [
        "\n",
        "\n",
        "> Looking at the Ridge Regression, the coefficients that drop the most from 0.0001 to 10 are age and age 3. \n",
        "\n"
      ],
      "metadata": {
        "id": "VxClnv4MAzR1"
      }
    },
    {
      "cell_type": "markdown",
      "source": [
        "### 9.2"
      ],
      "metadata": {
        "id": "2551p_BceD9g"
      }
    },
    {
      "cell_type": "markdown",
      "source": [
        "\n",
        "\n",
        "> Looking at the Lasso Regression plot, the two coefficients that survive when alpha=0.1 are educ and age. \n",
        "\n"
      ],
      "metadata": {
        "id": "lO8jQaD-BRmq"
      }
    },
    {
      "cell_type": "markdown",
      "source": [
        "### 9.3"
      ],
      "metadata": {
        "id": "wMAk3-7feFUv"
      }
    },
    {
      "cell_type": "markdown",
      "source": [
        "\n",
        "\n",
        "> The Lasso coefficients are larger in magnitude than the ElasticNet coefficients when alpha=0.0001 because the Lasso model shrinks features to zero, essentially enabling feature selection. The features the Lasso model selects may have larger coefficients becuase the model interprets the values as more significant. Because the ElasticNet model includes Lasso and Ridge, it will reduce the magnitude of the other weights, not just eliminating features to zero. This results in the features that Lasso selects being larger than the most dominant features in the ElasticNet model.\n",
        "\n"
      ],
      "metadata": {
        "id": "X66x_wnCFcNf"
      }
    }
  ]
}